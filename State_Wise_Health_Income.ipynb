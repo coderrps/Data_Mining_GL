{
 "cells": [
  {
   "cell_type": "markdown",
   "id": "5fc3a951",
   "metadata": {},
   "source": [
    "# Importing Libraries"
   ]
  },
  {
   "cell_type": "code",
   "execution_count": 63,
   "id": "f925d6ee",
   "metadata": {},
   "outputs": [],
   "source": [
    "import pandas as pd\n",
    "import numpy as np\n",
    "import matplotlib.pyplot as plt\n",
    "import seaborn as sns\n",
    "from sklearn.preprocessing import StandardScaler\n",
    "from sklearn.cluster import AgglomerativeClustering, KMeans\n",
    "from scipy.cluster.hierarchy import dendrogram, linkage\n",
    "from sklearn.metrics import silhouette_score"
   ]
  },
  {
   "cell_type": "markdown",
   "id": "bddefab5",
   "metadata": {},
   "source": [
    "# Loading the dataset"
   ]
  },
  {
   "cell_type": "code",
   "execution_count": 64,
   "id": "d14af59d",
   "metadata": {},
   "outputs": [],
   "source": [
    "data = pd.read_csv('State_wise_Health_income.csv')"
   ]
  },
  {
   "cell_type": "code",
   "execution_count": 65,
   "id": "e5bb6685",
   "metadata": {},
   "outputs": [
    {
     "data": {
      "text/html": [
       "<div>\n",
       "<style scoped>\n",
       "    .dataframe tbody tr th:only-of-type {\n",
       "        vertical-align: middle;\n",
       "    }\n",
       "\n",
       "    .dataframe tbody tr th {\n",
       "        vertical-align: top;\n",
       "    }\n",
       "\n",
       "    .dataframe thead th {\n",
       "        text-align: right;\n",
       "    }\n",
       "</style>\n",
       "<table border=\"1\" class=\"dataframe\">\n",
       "  <thead>\n",
       "    <tr style=\"text-align: right;\">\n",
       "      <th></th>\n",
       "      <th>ID</th>\n",
       "      <th>States</th>\n",
       "      <th>Health_indeces1</th>\n",
       "      <th>Health_indices2</th>\n",
       "      <th>Per_capita_income</th>\n",
       "      <th>GDP</th>\n",
       "    </tr>\n",
       "  </thead>\n",
       "  <tbody>\n",
       "    <tr>\n",
       "      <th>0</th>\n",
       "      <td>0</td>\n",
       "      <td>Bachevo</td>\n",
       "      <td>417</td>\n",
       "      <td>66</td>\n",
       "      <td>564</td>\n",
       "      <td>1823</td>\n",
       "    </tr>\n",
       "    <tr>\n",
       "      <th>1</th>\n",
       "      <td>1</td>\n",
       "      <td>Balgarchevo</td>\n",
       "      <td>1485</td>\n",
       "      <td>646</td>\n",
       "      <td>2710</td>\n",
       "      <td>73662</td>\n",
       "    </tr>\n",
       "    <tr>\n",
       "      <th>2</th>\n",
       "      <td>2</td>\n",
       "      <td>Belasitsa</td>\n",
       "      <td>654</td>\n",
       "      <td>299</td>\n",
       "      <td>1104</td>\n",
       "      <td>27318</td>\n",
       "    </tr>\n",
       "    <tr>\n",
       "      <th>3</th>\n",
       "      <td>3</td>\n",
       "      <td>Belo_Pole</td>\n",
       "      <td>192</td>\n",
       "      <td>25</td>\n",
       "      <td>573</td>\n",
       "      <td>250</td>\n",
       "    </tr>\n",
       "    <tr>\n",
       "      <th>4</th>\n",
       "      <td>4</td>\n",
       "      <td>Beslen</td>\n",
       "      <td>43</td>\n",
       "      <td>8</td>\n",
       "      <td>528</td>\n",
       "      <td>22</td>\n",
       "    </tr>\n",
       "  </tbody>\n",
       "</table>\n",
       "</div>"
      ],
      "text/plain": [
       "   ID       States  Health_indeces1  Health_indices2  Per_capita_income    GDP\n",
       "0   0      Bachevo              417               66                564   1823\n",
       "1   1  Balgarchevo             1485              646               2710  73662\n",
       "2   2    Belasitsa              654              299               1104  27318\n",
       "3   3    Belo_Pole              192               25                573    250\n",
       "4   4       Beslen               43                8                528     22"
      ]
     },
     "execution_count": 65,
     "metadata": {},
     "output_type": "execute_result"
    }
   ],
   "source": [
    "data.head()"
   ]
  },
  {
   "cell_type": "code",
   "execution_count": 66,
   "id": "6da0b713",
   "metadata": {},
   "outputs": [
    {
     "data": {
      "text/plain": [
       "ID                   0\n",
       "States               0\n",
       "Health_indeces1      0\n",
       "Health_indices2      0\n",
       "Per_capita_income    0\n",
       "GDP                  0\n",
       "dtype: int64"
      ]
     },
     "execution_count": 66,
     "metadata": {},
     "output_type": "execute_result"
    }
   ],
   "source": [
    "data.isnull().sum()"
   ]
  },
  {
   "cell_type": "code",
   "execution_count": 67,
   "id": "680e24a3",
   "metadata": {},
   "outputs": [
    {
     "data": {
      "text/html": [
       "<div>\n",
       "<style scoped>\n",
       "    .dataframe tbody tr th:only-of-type {\n",
       "        vertical-align: middle;\n",
       "    }\n",
       "\n",
       "    .dataframe tbody tr th {\n",
       "        vertical-align: top;\n",
       "    }\n",
       "\n",
       "    .dataframe thead th {\n",
       "        text-align: right;\n",
       "    }\n",
       "</style>\n",
       "<table border=\"1\" class=\"dataframe\">\n",
       "  <thead>\n",
       "    <tr style=\"text-align: right;\">\n",
       "      <th></th>\n",
       "      <th>ID</th>\n",
       "      <th>Health_indeces1</th>\n",
       "      <th>Health_indices2</th>\n",
       "      <th>Per_capita_income</th>\n",
       "      <th>GDP</th>\n",
       "    </tr>\n",
       "  </thead>\n",
       "  <tbody>\n",
       "    <tr>\n",
       "      <th>count</th>\n",
       "      <td>297.000000</td>\n",
       "      <td>297.000000</td>\n",
       "      <td>297.000000</td>\n",
       "      <td>297.000000</td>\n",
       "      <td>297.000000</td>\n",
       "    </tr>\n",
       "    <tr>\n",
       "      <th>mean</th>\n",
       "      <td>148.000000</td>\n",
       "      <td>2630.151515</td>\n",
       "      <td>693.632997</td>\n",
       "      <td>2156.915825</td>\n",
       "      <td>174601.117845</td>\n",
       "    </tr>\n",
       "    <tr>\n",
       "      <th>std</th>\n",
       "      <td>85.880731</td>\n",
       "      <td>2038.505431</td>\n",
       "      <td>468.944354</td>\n",
       "      <td>1491.854058</td>\n",
       "      <td>167167.992863</td>\n",
       "    </tr>\n",
       "    <tr>\n",
       "      <th>min</th>\n",
       "      <td>0.000000</td>\n",
       "      <td>-10.000000</td>\n",
       "      <td>0.000000</td>\n",
       "      <td>500.000000</td>\n",
       "      <td>22.000000</td>\n",
       "    </tr>\n",
       "    <tr>\n",
       "      <th>25%</th>\n",
       "      <td>74.000000</td>\n",
       "      <td>641.000000</td>\n",
       "      <td>175.000000</td>\n",
       "      <td>751.000000</td>\n",
       "      <td>8721.000000</td>\n",
       "    </tr>\n",
       "    <tr>\n",
       "      <th>50%</th>\n",
       "      <td>148.000000</td>\n",
       "      <td>2451.000000</td>\n",
       "      <td>810.000000</td>\n",
       "      <td>1865.000000</td>\n",
       "      <td>137173.000000</td>\n",
       "    </tr>\n",
       "    <tr>\n",
       "      <th>75%</th>\n",
       "      <td>222.000000</td>\n",
       "      <td>4094.000000</td>\n",
       "      <td>1073.000000</td>\n",
       "      <td>3137.000000</td>\n",
       "      <td>313092.000000</td>\n",
       "    </tr>\n",
       "    <tr>\n",
       "      <th>max</th>\n",
       "      <td>296.000000</td>\n",
       "      <td>10219.000000</td>\n",
       "      <td>1508.000000</td>\n",
       "      <td>7049.000000</td>\n",
       "      <td>728575.000000</td>\n",
       "    </tr>\n",
       "  </tbody>\n",
       "</table>\n",
       "</div>"
      ],
      "text/plain": [
       "               ID  Health_indeces1  Health_indices2  Per_capita_income   \n",
       "count  297.000000       297.000000       297.000000         297.000000  \\\n",
       "mean   148.000000      2630.151515       693.632997        2156.915825   \n",
       "std     85.880731      2038.505431       468.944354        1491.854058   \n",
       "min      0.000000       -10.000000         0.000000         500.000000   \n",
       "25%     74.000000       641.000000       175.000000         751.000000   \n",
       "50%    148.000000      2451.000000       810.000000        1865.000000   \n",
       "75%    222.000000      4094.000000      1073.000000        3137.000000   \n",
       "max    296.000000     10219.000000      1508.000000        7049.000000   \n",
       "\n",
       "                 GDP  \n",
       "count     297.000000  \n",
       "mean   174601.117845  \n",
       "std    167167.992863  \n",
       "min        22.000000  \n",
       "25%      8721.000000  \n",
       "50%    137173.000000  \n",
       "75%    313092.000000  \n",
       "max    728575.000000  "
      ]
     },
     "execution_count": 67,
     "metadata": {},
     "output_type": "execute_result"
    }
   ],
   "source": [
    "data.describe()"
   ]
  },
  {
   "cell_type": "code",
   "execution_count": 68,
   "id": "ed7fcd36",
   "metadata": {},
   "outputs": [
    {
     "data": {
      "text/plain": [
       "(297, 6)"
      ]
     },
     "execution_count": 68,
     "metadata": {},
     "output_type": "execute_result"
    }
   ],
   "source": [
    "data.shape"
   ]
  },
  {
   "cell_type": "markdown",
   "id": "f41799e2",
   "metadata": {},
   "source": [
    "# Clustering and Scaling"
   ]
  },
  {
   "cell_type": "code",
   "execution_count": 71,
   "id": "008386cd",
   "metadata": {},
   "outputs": [],
   "source": [
    "scaler = StandardScaler()\n",
    "scaled_features = scaler.fit_transform(data[['Health_indeces1', 'Health_indices2', 'Per_capita_income', 'GDP']])"
   ]
  },
  {
   "cell_type": "markdown",
   "id": "6847614d",
   "metadata": {},
   "source": [
    "# Hierarchical Clustering"
   ]
  },
  {
   "cell_type": "code",
   "execution_count": 72,
   "id": "763284e1",
   "metadata": {},
   "outputs": [
    {
     "data": {
      "image/png": "[encoded data removed]",
      "text/plain": [
       "<Figure size 1000x700 with 1 Axes>"
      ]
     },
     "metadata": {},
     "output_type": "display_data"
    }
   ],
   "source": [
    "plt.figure(figsize=(10, 7))\n",
    "plt.title(\"Dendrogram\")\n",
    "linkage_method = linkage(scaled_features, method='ward')\n",
    "dendrogram(linkage_method)\n",
    "plt.axhline(y=6, color='r', linestyle='--') \n",
    "plt.show()"
   ]
  },
  {
   "cell_type": "markdown",
   "id": "1d872267",
   "metadata": {},
   "source": [
    "# K-Means Clustering"
   ]
  },
  {
   "cell_type": "code",
   "execution_count": 101,
   "id": "12a3db72",
   "metadata": {},
   "outputs": [
    {
     "name": "stderr",
     "output_type": "stream",
     "text": [
      "C:\\Users\\RITU PRIYA SINGH\\AppData\\Local\\Programs\\Python\\Python311\\Lib\\site-packages\\sklearn\\cluster\\_kmeans.py:870: FutureWarning: The default value of `n_init` will change from 10 to 'auto' in 1.4. Set the value of `n_init` explicitly to suppress the warning\n",
      "  warnings.warn(\n",
      "C:\\Users\\RITU PRIYA SINGH\\AppData\\Local\\Programs\\Python\\Python311\\Lib\\site-packages\\sklearn\\cluster\\_kmeans.py:870: FutureWarning: The default value of `n_init` will change from 10 to 'auto' in 1.4. Set the value of `n_init` explicitly to suppress the warning\n",
      "  warnings.warn(\n",
      "C:\\Users\\RITU PRIYA SINGH\\AppData\\Local\\Programs\\Python\\Python311\\Lib\\site-packages\\sklearn\\cluster\\_kmeans.py:870: FutureWarning: The default value of `n_init` will change from 10 to 'auto' in 1.4. Set the value of `n_init` explicitly to suppress the warning\n",
      "  warnings.warn(\n",
      "C:\\Users\\RITU PRIYA SINGH\\AppData\\Local\\Programs\\Python\\Python311\\Lib\\site-packages\\sklearn\\cluster\\_kmeans.py:870: FutureWarning: The default value of `n_init` will change from 10 to 'auto' in 1.4. Set the value of `n_init` explicitly to suppress the warning\n",
      "  warnings.warn(\n",
      "C:\\Users\\RITU PRIYA SINGH\\AppData\\Local\\Programs\\Python\\Python311\\Lib\\site-packages\\sklearn\\cluster\\_kmeans.py:870: FutureWarning: The default value of `n_init` will change from 10 to 'auto' in 1.4. Set the value of `n_init` explicitly to suppress the warning\n",
      "  warnings.warn(\n",
      "C:\\Users\\RITU PRIYA SINGH\\AppData\\Local\\Programs\\Python\\Python311\\Lib\\site-packages\\sklearn\\cluster\\_kmeans.py:870: FutureWarning: The default value of `n_init` will change from 10 to 'auto' in 1.4. Set the value of `n_init` explicitly to suppress the warning\n",
      "  warnings.warn(\n",
      "C:\\Users\\RITU PRIYA SINGH\\AppData\\Local\\Programs\\Python\\Python311\\Lib\\site-packages\\sklearn\\cluster\\_kmeans.py:870: FutureWarning: The default value of `n_init` will change from 10 to 'auto' in 1.4. Set the value of `n_init` explicitly to suppress the warning\n",
      "  warnings.warn(\n",
      "C:\\Users\\RITU PRIYA SINGH\\AppData\\Local\\Programs\\Python\\Python311\\Lib\\site-packages\\sklearn\\cluster\\_kmeans.py:870: FutureWarning: The default value of `n_init` will change from 10 to 'auto' in 1.4. Set the value of `n_init` explicitly to suppress the warning\n",
      "  warnings.warn(\n",
      "C:\\Users\\RITU PRIYA SINGH\\AppData\\Local\\Programs\\Python\\Python311\\Lib\\site-packages\\sklearn\\cluster\\_kmeans.py:870: FutureWarning: The default value of `n_init` will change from 10 to 'auto' in 1.4. Set the value of `n_init` explicitly to suppress the warning\n",
      "  warnings.warn(\n",
      "C:\\Users\\RITU PRIYA SINGH\\AppData\\Local\\Programs\\Python\\Python311\\Lib\\site-packages\\sklearn\\cluster\\_kmeans.py:870: FutureWarning: The default value of `n_init` will change from 10 to 'auto' in 1.4. Set the value of `n_init` explicitly to suppress the warning\n",
      "  warnings.warn(\n"
     ]
    },
    {
     "data": {
      "image/png": "[encoded data removed]",
      "text/plain": [
       "<Figure size 1000x500 with 1 Axes>"
      ]
     },
     "metadata": {},
     "output_type": "display_data"
    }
   ],
   "source": [
    "wcss = []\n",
    "for i in range(1, 11):\n",
    "    kmeans = KMeans(n_clusters=i, init='k-means++', random_state=42)\n",
    "    kmeans.fit(scaled_features)\n",
    "    wcss.append(kmeans.inertia_)\n",
    "\n",
    "plt.figure(figsize=(10, 5))\n",
    "plt.plot(range(1, 11), wcss)\n",
    "plt.title('Elbow Method')\n",
    "plt.xlabel('Number of clusters')\n",
    "plt.ylabel('WCSS')\n",
    "plt.show()"
   ]
  },
  {
   "cell_type": "markdown",
   "id": "64adfb79",
   "metadata": {},
   "source": [
    "# Elbow Curve and Silhouette Score"
   ]
  },
  {
   "cell_type": "code",
   "execution_count": 102,
   "id": "a742d8fe",
   "metadata": {},
   "outputs": [
    {
     "name": "stdout",
     "output_type": "stream",
     "text": [
      "Silhouette Score: 0.53\n"
     ]
    },
    {
     "name": "stderr",
     "output_type": "stream",
     "text": [
      "C:\\Users\\RITU PRIYA SINGH\\AppData\\Local\\Programs\\Python\\Python311\\Lib\\site-packages\\sklearn\\cluster\\_kmeans.py:870: FutureWarning: The default value of `n_init` will change from 10 to 'auto' in 1.4. Set the value of `n_init` explicitly to suppress the warning\n",
      "  warnings.warn(\n"
     ]
    }
   ],
   "source": [
    "n_clusters = 6\n",
    "kmeans = KMeans(n_clusters=n_clusters, init='k-means++', random_state=42)\n",
    "cluster_labels = kmeans.fit_predict(scaled_features)\n",
    "\n",
    "# Silhouette Score\n",
    "silhouette_avg = silhouette_score(scaled_features, cluster_labels)\n",
    "print(f'Silhouette Score: {silhouette_avg:.2f}')"
   ]
  },
  {
   "cell_type": "markdown",
   "id": "db83a1b2",
   "metadata": {},
   "source": [
    "# Clustering based on Cluster Column"
   ]
  },
  {
   "cell_type": "code",
   "execution_count": 103,
   "id": "e423743e",
   "metadata": {
    "scrolled": false
   },
   "outputs": [],
   "source": [
    "data['Cluster'] = cluster_labels"
   ]
  },
  {
   "cell_type": "code",
   "execution_count": 104,
   "id": "296998f3",
   "metadata": {},
   "outputs": [
    {
     "data": {
      "text/html": [
       "<div>\n",
       "<style scoped>\n",
       "    .dataframe tbody tr th:only-of-type {\n",
       "        vertical-align: middle;\n",
       "    }\n",
       "\n",
       "    .dataframe tbody tr th {\n",
       "        vertical-align: top;\n",
       "    }\n",
       "\n",
       "    .dataframe thead th {\n",
       "        text-align: right;\n",
       "    }\n",
       "</style>\n",
       "<table border=\"1\" class=\"dataframe\">\n",
       "  <thead>\n",
       "    <tr style=\"text-align: right;\">\n",
       "      <th></th>\n",
       "      <th>ID</th>\n",
       "      <th>States</th>\n",
       "      <th>Health_indeces1</th>\n",
       "      <th>Health_indices2</th>\n",
       "      <th>Per_capita_income</th>\n",
       "      <th>GDP</th>\n",
       "      <th>Cluster</th>\n",
       "    </tr>\n",
       "  </thead>\n",
       "  <tbody>\n",
       "    <tr>\n",
       "      <th>0</th>\n",
       "      <td>0</td>\n",
       "      <td>Bachevo</td>\n",
       "      <td>417</td>\n",
       "      <td>66</td>\n",
       "      <td>564</td>\n",
       "      <td>1823</td>\n",
       "      <td>2</td>\n",
       "    </tr>\n",
       "    <tr>\n",
       "      <th>1</th>\n",
       "      <td>1</td>\n",
       "      <td>Balgarchevo</td>\n",
       "      <td>1485</td>\n",
       "      <td>646</td>\n",
       "      <td>2710</td>\n",
       "      <td>73662</td>\n",
       "      <td>4</td>\n",
       "    </tr>\n",
       "    <tr>\n",
       "      <th>2</th>\n",
       "      <td>2</td>\n",
       "      <td>Belasitsa</td>\n",
       "      <td>654</td>\n",
       "      <td>299</td>\n",
       "      <td>1104</td>\n",
       "      <td>27318</td>\n",
       "      <td>2</td>\n",
       "    </tr>\n",
       "    <tr>\n",
       "      <th>3</th>\n",
       "      <td>3</td>\n",
       "      <td>Belo_Pole</td>\n",
       "      <td>192</td>\n",
       "      <td>25</td>\n",
       "      <td>573</td>\n",
       "      <td>250</td>\n",
       "      <td>2</td>\n",
       "    </tr>\n",
       "    <tr>\n",
       "      <th>4</th>\n",
       "      <td>4</td>\n",
       "      <td>Beslen</td>\n",
       "      <td>43</td>\n",
       "      <td>8</td>\n",
       "      <td>528</td>\n",
       "      <td>22</td>\n",
       "      <td>2</td>\n",
       "    </tr>\n",
       "    <tr>\n",
       "      <th>...</th>\n",
       "      <td>...</td>\n",
       "      <td>...</td>\n",
       "      <td>...</td>\n",
       "      <td>...</td>\n",
       "      <td>...</td>\n",
       "      <td>...</td>\n",
       "      <td>...</td>\n",
       "    </tr>\n",
       "    <tr>\n",
       "      <th>95</th>\n",
       "      <td>95</td>\n",
       "      <td>Ballykinler</td>\n",
       "      <td>801</td>\n",
       "      <td>204</td>\n",
       "      <td>596</td>\n",
       "      <td>10308</td>\n",
       "      <td>2</td>\n",
       "    </tr>\n",
       "    <tr>\n",
       "      <th>96</th>\n",
       "      <td>96</td>\n",
       "      <td>Ballylesson</td>\n",
       "      <td>2893</td>\n",
       "      <td>664</td>\n",
       "      <td>1474</td>\n",
       "      <td>129285</td>\n",
       "      <td>1</td>\n",
       "    </tr>\n",
       "    <tr>\n",
       "      <th>97</th>\n",
       "      <td>97</td>\n",
       "      <td>Ballylinney</td>\n",
       "      <td>533</td>\n",
       "      <td>102</td>\n",
       "      <td>625</td>\n",
       "      <td>4042</td>\n",
       "      <td>2</td>\n",
       "    </tr>\n",
       "    <tr>\n",
       "      <th>98</th>\n",
       "      <td>98</td>\n",
       "      <td>Ballymacmaine</td>\n",
       "      <td>1412</td>\n",
       "      <td>443</td>\n",
       "      <td>1376</td>\n",
       "      <td>43048</td>\n",
       "      <td>1</td>\n",
       "    </tr>\n",
       "    <tr>\n",
       "      <th>99</th>\n",
       "      <td>99</td>\n",
       "      <td>Ballymacnab</td>\n",
       "      <td>2120</td>\n",
       "      <td>475</td>\n",
       "      <td>1367</td>\n",
       "      <td>78138</td>\n",
       "      <td>1</td>\n",
       "    </tr>\n",
       "  </tbody>\n",
       "</table>\n",
       "<p>100 rows × 7 columns</p>\n",
       "</div>"
      ],
      "text/plain": [
       "    ID         States  Health_indeces1  Health_indices2  Per_capita_income   \n",
       "0    0        Bachevo              417               66                564  \\\n",
       "1    1    Balgarchevo             1485              646               2710   \n",
       "2    2      Belasitsa              654              299               1104   \n",
       "3    3      Belo_Pole              192               25                573   \n",
       "4    4         Beslen               43                8                528   \n",
       "..  ..            ...              ...              ...                ...   \n",
       "95  95    Ballykinler              801              204                596   \n",
       "96  96    Ballylesson             2893              664               1474   \n",
       "97  97    Ballylinney              533              102                625   \n",
       "98  98  Ballymacmaine             1412              443               1376   \n",
       "99  99    Ballymacnab             2120              475               1367   \n",
       "\n",
       "       GDP  Cluster  \n",
       "0     1823        2  \n",
       "1    73662        4  \n",
       "2    27318        2  \n",
       "3      250        2  \n",
       "4       22        2  \n",
       "..     ...      ...  \n",
       "95   10308        2  \n",
       "96  129285        1  \n",
       "97    4042        2  \n",
       "98   43048        1  \n",
       "99   78138        1  \n",
       "\n",
       "[100 rows x 7 columns]"
      ]
     },
     "execution_count": 104,
     "metadata": {},
     "output_type": "execute_result"
    }
   ],
   "source": [
    "data.head(100)"
   ]
  },
  {
   "cell_type": "code",
   "execution_count": 105,
   "id": "8f4117cd",
   "metadata": {},
   "outputs": [],
   "source": [
    "cluster_profiles = cluster_data.groupby('Cluster')"
   ]
  },
  {
   "cell_type": "code",
   "execution_count": 106,
   "id": "8b36af87",
   "metadata": {},
   "outputs": [
    {
     "name": "stdout",
     "output_type": "stream",
     "text": [
      "<pandas.core.groupby.generic.DataFrameGroupBy object at 0x000001AFFC935D50>\n"
     ]
    }
   ],
   "source": [
    "print(cluster_profiles)"
   ]
  },
  {
   "cell_type": "code",
   "execution_count": null,
   "id": "e7d202a9",
   "metadata": {},
   "outputs": [],
   "source": []
  }
 ],
 "metadata": {
  "kernelspec": {
   "display_name": "Python 3 (ipykernel)",
   "language": "python",
   "name": "python3"
  },
  "language_info": {
   "codemirror_mode": {
    "name": "ipython",
    "version": 3
   },
   "file_extension": ".py",
   "mimetype": "text/x-python",
   "name": "python",
   "nbconvert_exporter": "python",
   "pygments_lexer": "ipython3",
   "version": "3.11.3"
  }
 },
 "nbformat": 4,
 "nbformat_minor": 5
}
